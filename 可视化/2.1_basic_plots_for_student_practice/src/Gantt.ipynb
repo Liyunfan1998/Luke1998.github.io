{
 "cells": [
  {
   "cell_type": "markdown",
   "metadata": {},
   "source": [
    "   ## 甘特图\n",
    "   \n",
    "   **甘特圖（英语：Gantt chart）是条状图的一种流行类型，显示專案、進度以及其他与时间相关的系统进展的内在关系随着时间进展的情况。**"
   ]
  },
  {
   "cell_type": "code",
   "execution_count": 2,
   "metadata": {},
   "outputs": [
    {
     "name": "stderr",
     "output_type": "stream",
     "text": [
      "/usr/local/lib/python3.7/site-packages/matplotlib/axes/_base.py:3215: MatplotlibDeprecationWarning: \n",
      "The `xmin` argument was deprecated in Matplotlib 3.0 and will be removed in 3.2. Use `left` instead.\n",
      "  alternative='`left`', obj_type='argument')\n",
      "/usr/local/lib/python3.7/site-packages/matplotlib/axes/_base.py:3221: MatplotlibDeprecationWarning: \n",
      "The `xmax` argument was deprecated in Matplotlib 3.0 and will be removed in 3.2. Use `right` instead.\n",
      "  alternative='`right`', obj_type='argument')\n",
      "/usr/local/lib/python3.7/site-packages/matplotlib/axes/_base.py:3604: MatplotlibDeprecationWarning: \n",
      "The `ymin` argument was deprecated in Matplotlib 3.0 and will be removed in 3.2. Use `bottom` instead.\n",
      "  alternative='`bottom`', obj_type='argument')\n",
      "/usr/local/lib/python3.7/site-packages/matplotlib/axes/_base.py:3610: MatplotlibDeprecationWarning: \n",
      "The `ymax` argument was deprecated in Matplotlib 3.0 and will be removed in 3.2. Use `top` instead.\n",
      "  alternative='`top`', obj_type='argument')\n"
     ]
    },
    {
     "data": {
      "image/png": "[encoded data removed]",
      "text/plain": [
       "<Figure size 1440x576 with 1 Axes>"
      ]
     },
     "metadata": {
      "needs_background": "light"
     },
     "output_type": "display_data"
    }
   ],
   "source": [
    "import matplotlib.pyplot as plt\n",
    "import matplotlib.dates\n",
    "import pandas as pd #一个用于辅助科学计算的数据分析工具package\n",
    "import datetime as dt\n",
    "%matplotlib inline\n",
    "def _transfer_date(datetxt):#转换日起函数\n",
    "\t\"\"\"Creates the date\"\"\"\n",
    "\tday,month,year=datetxt.split('-')\n",
    "\tdate = dt.datetime(int(year), int(month), int(day))\n",
    "\tmdate = matplotlib.dates.date2num(date) \n",
    "\treturn mdate\n",
    "\n",
    "def _iterate_ele(list_):\n",
    "\tfor i in range(len(list_)):\n",
    "\t\tlist_[i] = _transfer_date(list_[i])\n",
    "\n",
    "data_src = \"../datasets/data/others/Gantt.csv\"\n",
    "\n",
    "pdata = pd.read_csv(data_src,sep=\",\")#读取甘特图csvdata\n",
    "\n",
    "yValues = pdata['item'].values#获取对应数据\n",
    "\n",
    "endDates = pdata['end_date'].values#获取对应数据\n",
    "_iterate_ele(endDates)\n",
    "\n",
    "startDates = pdata['start_date'].values#获取对应数据\n",
    "_iterate_ele(startDates)\n",
    "\n",
    "xValues = endDates - startDates\n",
    "\n",
    "fig = plt.figure(figsize=(20,8))\n",
    "fig.canvas.set_window_title('Gantt ShowCase')\n",
    "\n",
    "ax = fig.add_subplot(111)\n",
    "\n",
    "ax.set_xlim(xmin = min(startDates), xmax = max(endDates))#设定x轴的大小范围\n",
    "\n",
    "ax.set_ylim(ymin = 0, ymax = len(yValues)+1)#设定y轴的大小范围\n",
    "\n",
    "for i in range(len(yValues)):#在坐标轴上画出对应的水平条形图\n",
    "\tax.barh(i+1,xValues[i],left=startDates[i],height=0.3, align='center',\n",
    "\t\tedgecolor='lightgreen', color='orange', alpha = 0.8)\n",
    "\n",
    "#add one of the  two labels here.\n",
    "x_pos = [p + 1 for p in range(len(yValues))]\n",
    "plt.yticks(x_pos,yValues)#给y坐标添加label\n",
    "\n",
    "#add the  other one label here.\n",
    "#TODO: that kind of label display.Similar annotation style could be found in box_plot2.py\n",
    "plt.show()"
   ]
  },
  {
   "cell_type": "code",
   "execution_count": null,
   "metadata": {},
   "outputs": [],
   "source": []
  }
 ],
 "metadata": {
  "kernelspec": {
   "display_name": "Python 3",
   "language": "python",
   "name": "python3"
  },
  "language_info": {
   "codemirror_mode": {
    "name": "ipython",
    "version": 3
   },
   "file_extension": ".py",
   "mimetype": "text/x-python",
   "name": "python",
   "nbconvert_exporter": "python",
   "pygments_lexer": "ipython3",
   "version": "3.7.2"
  }
 },
 "nbformat": 4,
 "nbformat_minor": 2
}
