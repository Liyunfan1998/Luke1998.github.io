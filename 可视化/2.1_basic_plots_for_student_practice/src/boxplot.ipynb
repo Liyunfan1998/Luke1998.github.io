{
 "cells": [
  {
   "cell_type": "markdown",
   "metadata": {},
   "source": [
    "   ## 盒须图\n",
    "   \n",
    "   \n",
    "   **箱形图（英文：Box-plot），又称为盒须图、盒式图、盒状图或箱线图，是一种用作显示一组数据分散情况资料的统计图，它能显示出一组数据的最大值、最小值、中位数、下四分位数及上四分位数。**"
   ]
  },
  {
   "cell_type": "code",
   "execution_count": 11,
   "metadata": {},
   "outputs": [
    {
     "data": {
      "image/png": "[encoded data removed]",
      "text/plain": [
       "<Figure size 432x288 with 1 Axes>"
      ]
     },
     "metadata": {
      "needs_background": "light"
     },
     "output_type": "display_data"
    }
   ],
   "source": [
    "import numpy as np\n",
    "import pandas as pd\n",
    "from matplotlib import pyplot as plt\n",
    "\n",
    "import matplotlib.animation as animation\n",
    "\n",
    "data_prefix = \"../datasets/data/\"\n",
    "\n",
    "data_src = \"world-cup-predictions/wc-20140609-140000.csv\"#外部数据文件所在位置\n",
    "\n",
    "dataReal = data_prefix+data_src\n",
    "\n",
    "pdata = pd.read_csv(dataReal,sep=\",\")\n",
    "\n",
    "spiScore = pdata[\"spi\"].values#输入源数据\n",
    "\n",
    "# 请用plt.boxplot 画须盒图\n",
    "plt.boxplot(vert = True,\n",
    "           x=spiScore)\n",
    "\n",
    "plt.show()"
   ]
  }
 ],
 "metadata": {
  "kernelspec": {
   "display_name": "Python 3",
   "language": "python",
   "name": "python3"
  },
  "language_info": {
   "codemirror_mode": {
    "name": "ipython",
    "version": 3
   },
   "file_extension": ".py",
   "mimetype": "text/x-python",
   "name": "python",
   "nbconvert_exporter": "python",
   "pygments_lexer": "ipython3",
   "version": "3.7.2"
  }
 },
 "nbformat": 4,
 "nbformat_minor": 2
}
