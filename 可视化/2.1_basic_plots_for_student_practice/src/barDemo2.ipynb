{
 "cells": [
  {
   "cell_type": "markdown",
   "metadata": {},
   "source": [
    "   ##  条形图代码示意图 --偏差图 和 横条图\n",
    "   * matplotlib提供画出偏差的的条形图api"
   ]
  },
  {
   "cell_type": "code",
   "execution_count": 13,
   "metadata": {},
   "outputs": [
    {
     "data": {
      "image/png": "[encoded data removed]",
      "text/plain": [
       "<Figure size 432x288 with 1 Axes>"
      ]
     },
     "metadata": {
      "needs_background": "light"
     },
     "output_type": "display_data"
    }
   ],
   "source": [
    "import matplotlib.pyplot as plt\n",
    " \n",
    "# Input data\n",
    "mean_values = [1, 2, 3]#平均值\n",
    "variance = [0.2, 0.6, 0.5]#偏差\n",
    "bar_labels = ['bar 1', 'bar 2', 'bar 3']#label的命名\n",
    " \n",
    "fig = plt.figure()\n",
    "fig.canvas.set_window_title('Bar Demo ShowCase')#画图\n",
    " \n",
    "x_pos = list(range(len(bar_labels)))\n",
    "\n",
    "\n",
    "# 请用bar画出有均值和偏差的条形图\n",
    "plt.bar(mean_values, alpha=1, width=0.8, height=mean_values, color='skyblue',yerr=variance, lw=3)\n",
    "import numpy as np\n",
    "x_pos=np.array(x_pos)+1\n",
    "\n",
    "plt.grid()\n",
    " \n",
    "# set y axis  \n",
    "# zip函数接受任意多个（包括0个和1个）序列作为参数，返回一个tuple列表\n",
    "def comfunc(x):\n",
    "    return x[0]+x[1]\n",
    "\n",
    "#print(list(zip(mean_values, variance)))\n",
    "max_y = max(zip(mean_values, variance), key=comfunc) # returns a tuple, here: (3, .5)\n",
    "#print(max_y)\n",
    " \n",
    "plt.ylim([0, (max_y[0] + max_y[1]) * 1.1])#设定图标的y轴上下限\n",
    " \n",
    "plt.ylabel('variable y')\n",
    "\n",
    "plt.xticks(x_pos, bar_labels)#对于x轴命名\n",
    "\n",
    "plt.title('Bar plot with error bars')\n",
    " \n",
    "plt.show()\n",
    "#plt.savefig('./my_plot.png')"
   ]
  },
  {
   "cell_type": "code",
   "execution_count": 29,
   "metadata": {},
   "outputs": [
    {
     "name": "stdout",
     "output_type": "stream",
     "text": [
      "max(array1,)= 4\n",
      "[0 1 2]\n",
      "[0, 1, 2]\n"
     ]
    },
    {
     "data": {
      "image/png": "[encoded data removed]",
      "text/plain": [
       "<Figure size 576x432 with 1 Axes>"
      ]
     },
     "metadata": {
      "needs_background": "light"
     },
     "output_type": "display_data"
    }
   ],
   "source": [
    "from matplotlib import pyplot as plt\n",
    "import numpy as np\n",
    "\n",
    "array1 = range(10)  \n",
    "array2 = range(0, 20, 3)   \n",
    "print('max(array1,)=', max(array1, key=lambda x: x > 3) )  \n",
    "\n",
    "mean_values = [2,4,1]\n",
    "bias = [0.1,0.5,0.4]\n",
    "\n",
    "bar_labels= ['bar0','bar1','bar2']\n",
    "\n",
    "fig = plt.figure(figsize=(8,6))\n",
    "\n",
    "y_pos = np.arange(len(mean_values))\n",
    "print(y_pos)\n",
    "y_pos = [ele for ele in y_pos]\n",
    "print(y_pos)\n",
    "\n",
    "plt.yticks(y_pos,bar_labels,fontsize=10)\n",
    "\n",
    "#使用barhapi 画出有均值和偏差的水平条形图\n",
    "#  matplotlib.pyplot.barh(bottom, width, height=0.8, left=None, hold=None, **kwargs) \n",
    "\n",
    "plt.barh(y_pos, alpha=0.7, width=mean_values, height=0.8, color='darkseagreen',xerr=bias, lw=3)\n",
    "import numpy as np\n",
    "x_pos=np.array(x_pos)+1\n",
    "\n",
    "\n",
    "plt.xlabel(\"bias\")\n",
    "\n",
    "title = plt.title('bar plot with standard deviation')\n",
    "\n",
    "plt.ylim([-1,len(mean_values)+0]) # +0\n",
    "\n",
    "plt.xlim([0,6])\n",
    "\n",
    "plt.grid()\n",
    "\n",
    "\n",
    "#pltr=plt.barh([a+max(y_pos)*2 for a in y_pos],mean_values,xerr=bias,align = 'center',alpha = 1,color = 'r')\n",
    "#plt.yticks([a+max(y_pos)*2 for a in y_pos],bar_labels,fontsize=10)\n",
    "#plt.legend([pltg, pltr],['green', 'red'], loc='upper right')#画出缩略示意图\n",
    "\n",
    "plt.show()"
   ]
  },
  {
   "cell_type": "code",
   "execution_count": null,
   "metadata": {},
   "outputs": [],
   "source": []
  }
 ],
 "metadata": {
  "kernelspec": {
   "display_name": "Python 3",
   "language": "python",
   "name": "python3"
  },
  "language_info": {
   "codemirror_mode": {
    "name": "ipython",
    "version": 3
   },
   "file_extension": ".py",
   "mimetype": "text/x-python",
   "name": "python",
   "nbconvert_exporter": "python",
   "pygments_lexer": "ipython3",
   "version": "3.7.2"
  }
 },
 "nbformat": 4,
 "nbformat_minor": 2
}
