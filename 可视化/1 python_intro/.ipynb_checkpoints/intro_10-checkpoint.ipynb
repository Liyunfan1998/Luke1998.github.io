{
 "cells": [
  {
   "cell_type": "markdown",
   "metadata": {
    "collapsed": true
   },
   "source": [
    "## Dictionary\n",
    "\n",
    "  **dictionary是一种存储key-value数据的数据结构，和list类似，使用十分灵活**\n",
    "\n",
    "\n",
    "\n",
    "\n",
    "\n",
    "\n"
   ]
  },
  {
   "cell_type": "code",
   "execution_count": 9,
   "metadata": {},
   "outputs": [
    {
     "name": "stdout",
     "output_type": "stream",
     "text": [
      "Zara (2, 3)\n",
      "[1, 2, 3] = [1, 2, 3]\n",
      "None\n",
      "{1: 'Zara', (2, 3): (2, 3), 'list': [1, 2, 3]}\n",
      "dict_keys([1, (2, 3), 'list'])\n",
      "dict_items([(1, 'Zara'), ((2, 3), (2, 3)), ('list', [1, 2, 3])])\n",
      "dict_values(['Zara', (2, 3), [1, 2, 3]])\n"
     ]
    }
   ],
   "source": [
    "dict1 = {1: 'Zara', (2,3): (2,3), 'list':[1,2,3]} # Tuple 类型作为key，list可以作为value\n",
    "print(dict1[1],dict3[(2,3)])#可使用数值和tuple作为dict的key\n",
    "print(dict1.get('list'), '=',dict1['list'])\n",
    "\n",
    "print(str(dict1))\n",
    "\n",
    "print(dict1.keys())\n",
    "print(dict1.items())\n",
    "print(dict1.values())\n",
    "\n",
    "\n",
    "#dict2 = {['Name']: 'Zara', 'Age': 7}                    #不可以使用list作为key，只能使用不可变的量（即string,number,tuple）\n",
    "#print(dict2['name'])                  \n",
    "\n",
    "#dict3 = {1: 'Zara', (2): 7}\n",
    "#print(dict3[1],dict3[(2)])#可使用数值和tuple作为dict的key\n"
   ]
  },
  {
   "cell_type": "code",
   "execution_count": 11,
   "metadata": {},
   "outputs": [
    {
     "name": "stdout",
     "output_type": "stream",
     "text": [
      "dict['Name']:  aron\n",
      "{'Age': 7, 'Class': 'First'}\n",
      "{'a': 3}\n"
     ]
    }
   ],
   "source": [
    "dict1 = {'Name': 'Zara', 'Age': 7, 'Class': 'First'}#dictionary的赋值\n",
    "\n",
    "dict1['Name']='aron'#元素的更新\n",
    "print (\"dict['Name']: \", dict1['Name'])\n",
    "\n",
    "del dict1['Name']; # 删除key为name的元素\n",
    "print(dict1)\n",
    "\n",
    "dict1.clear();     # 删除dict中的所有元素\n",
    "dict1.update({'a':3})#添加另一个dict的元素到dict\n",
    "print(dict1)\n",
    "\n",
    "del dict1 ;        # 删除整个dict\n",
    "\n",
    "# print(dict1)"
   ]
  },
  {
   "cell_type": "code",
   "execution_count": 10,
   "metadata": {},
   "outputs": [
    {
     "name": "stdout",
     "output_type": "stream",
     "text": [
      "3\n",
      "{'Name': 'Zara', 'Age': 7, 'Class': 'First'}\n",
      "<class 'dict'>\n",
      "dict_keys(['Name', 'Age', 'Class'])\n",
      "dict_items([('Name', 'Zara'), ('Age', 7), ('Class', 'First')])\n",
      "dict_values(['Zara', 7, 'First'])\n",
      "{1: 'Zara', (2, 3): (2, 3), 'list': [1, 2, 3], 'a': 3}\n"
     ]
    }
   ],
   "source": [
    "dict1 = {'Name': 'Zara', 'Age': 7, 'Class': 'First'}#dictionary的赋值\n",
    "\n",
    "##--内建函数的使用--\n",
    "print(len(dict1))\n",
    "print(str(dict1))\n",
    "print(type(dict1))\n",
    "##--内建函数的使用--\n",
    "\n",
    "\n",
    "##--内建方法的使用--\n",
    "print(dict1.keys())\n",
    "print(dict1.items())\n",
    "print(dict1.values())\n",
    "\n",
    "dict3.update({'a':3})#添加另一个dict的元素到dict\n",
    "print(dict3)"
   ]
  },
  {
   "cell_type": "markdown",
   "metadata": {},
   "source": [
    "### 可用在dictionary上的一些常用api\n",
    "<img src=\"res/dict_1.png\" align=\"left\" width=\"500px\">\n",
    "\n",
    "\n",
    "### dictionary本身包含的方法\n",
    "![dict api3](res/dict_2.png)\n",
    "![dict api3](res/dict_3.png)"
   ]
  }
 ],
 "metadata": {
  "kernelspec": {
   "display_name": "Python 3",
   "language": "python",
   "name": "python3"
  },
  "language_info": {
   "codemirror_mode": {
    "name": "ipython",
    "version": 3
   },
   "file_extension": ".py",
   "mimetype": "text/x-python",
   "name": "python",
   "nbconvert_exporter": "python",
   "pygments_lexer": "ipython3",
   "version": "3.6.4"
  }
 },
 "nbformat": 4,
 "nbformat_minor": 2
}
