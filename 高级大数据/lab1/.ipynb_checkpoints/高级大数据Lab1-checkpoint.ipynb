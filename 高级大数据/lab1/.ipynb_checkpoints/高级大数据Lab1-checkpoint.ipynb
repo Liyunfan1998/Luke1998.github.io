{
 "cells": [
  {
   "cell_type": "markdown",
   "metadata": {},
   "source": [
    "e0. Use the command uname to simultaneously show the name and version of the system\n",
    "![jupyter](./7.28.07.png)\n",
    "e1. Use the command echo to show the full path of your home directory\n",
    "![jupyter](./7.29.40.png)\n",
    "e2. Use the command whoami ​ to show the current login user.\n",
    "![jupyter](./7.29.52.png)\n",
    "e3. Use the command chmod to make the file 1.sh in the current directory executable.\n",
    "![jupyter](./7.32.02.png)\n",
    "e4. Show the disk usage of the current directory, with depth 1, and human readable output. \n",
    "![jupyter](./7.33.58.png)\n",
    "e5. Change the name of file 1.sh to 2.sh\n",
    "![jupyter](./7.37.49.png)\n",
    "e6. Use apt-get to install jq.\n",
    "![jupyter](./7.40.24.png)\n",
    "e7. Use ssh to connect to 10.19.248.12, with user oyel.\n",
    "![jupyter](./7.41.04.png)\n",
    "e8. Open a read-only file 1.sh.\n",
    "![jupyter](./7.42.48.png)\n",
    "n1. Show line 6-10 of file /etc/hosts.\n",
    "![jupyter](./7.47.56.png)\n",
    "n2. Copy the file 1.sh in the current directory to your home directory, the modification time should be preserved.\n",
    "              \n",
    "![jupyter](./7.50.26.png)\n",
    "n3. Make the files and subdirectories of directory “dir” readable, writable, executable to all users, use mode.\n",
    "![jupyter](./7.52.37.png)\n",
    "n4. Use grep to find all matches of pattern “url” in file “commits.json”, print 1 line of leading and trailing context surrounding each match.\n",
    "![jupyter](./8.05.38.png)\n",
    "h1. Show all the hidden files and directories under your home directory, do not include “.” and “..” .\n",
    "![jupyter](./8.13.47.png)\n",
    "h2. Echo every 2 letter combination of a, b, c, and d including doubles. Do not write out all combinations manually, and do not use loops.\n",
    "![jupyter](./8.14.06.png)\n",
    "h3. Use awk to show the first and the second column of command “ls -l”, the header should not be included(grep -v).\n",
    "![jupyter](./8.23.21.png)\n",
    "h4. Transform all uppercase letters to lowercase in the file “input.txt”, and output the result to “output.txt”.\n",
    "![jupyter](./8.27.16.png)\n",
    "h5. Find the three most space-consuming sub-directories under the current directory, output them in descending order.\n",
    "![jupyter](./8.33.27.png)\n",
    "h6. Write a script to sum from 1 to 100.\n",
    "![jupyter](./8.35.01.png)\n",
    "h7. Write a script to show the number of lines of each file in the current directory.\n",
    "![jupyter](./8.36.44.png)\n",
    "h8. Write a script that adds an extension “.New” to all the files in a directory “dir”.\n",
    "![jupyter](./8.47.31.png)\n",
    "h9. Write a script to get the current date, time, username, and current working directory.\n",
    "![jupyter](./8.51.44.png)"
   ]
  },
  {
   "cell_type": "markdown",
   "metadata": {},
   "source": []
  },
  {
   "cell_type": "code",
   "execution_count": null,
   "metadata": {},
   "outputs": [],
   "source": []
  }
 ],
 "metadata": {
  "kernelspec": {
   "display_name": "Python 3",
   "language": "python",
   "name": "python3"
  },
  "language_info": {
   "codemirror_mode": {
    "name": "ipython",
    "version": 3
   },
   "file_extension": ".py",
   "mimetype": "text/x-python",
   "name": "python",
   "nbconvert_exporter": "python",
   "pygments_lexer": "ipython3",
   "version": "3.7.2"
  }
 },
 "nbformat": 4,
 "nbformat_minor": 2
}
